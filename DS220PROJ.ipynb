{
  "nbformat": 4,
  "nbformat_minor": 0,
  "metadata": {
    "colab": {
      "provenance": []
    },
    "kernelspec": {
      "name": "python3",
      "display_name": "Python 3"
    },
    "language_info": {
      "name": "python"
    }
  },
  "cells": [
    {
      "cell_type": "code",
      "execution_count": 2,
      "metadata": {
        "id": "P9yU4kooZuGd"
      },
      "outputs": [],
      "source": [
        "from datascience import Table\n",
        "import pandas as pd\n",
        "\n",
        "# Load dataset into a datascience Table\n",
        "fastfood_table = Table.read_table('Fastfood_USA.csv')\n"
      ]
    },
    {
      "cell_type": "code",
      "source": [
        "# Convert the Table to a Pandas DataFrame\n",
        "fastfood_df = fastfood_table.to_df()\n",
        "\n",
        "# Check for missing values using isnull() in Pandas DataFrame\n",
        "missing_values = fastfood_df.isnull().sum()\n",
        "print(missing_values)"
      ],
      "metadata": {
        "id": "SIoILv7XfZp9"
      },
      "execution_count": null,
      "outputs": []
    },
    {
      "cell_type": "code",
      "source": [
        "fastfood_table.columns"
      ],
      "metadata": {
        "id": "3coCCizVy3bc"
      },
      "execution_count": null,
      "outputs": []
    },
    {
      "cell_type": "code",
      "source": [
        "fastfood_df.head(10)  # Displays the first 10 rows of the DataFrame\n"
      ],
      "metadata": {
        "id": "fOsxxbn2zUem"
      },
      "execution_count": null,
      "outputs": []
    },
    {
      "cell_type": "code",
      "source": [
        "fastfood_df.tail(10)  # Displays the last 10 rows of the DataFrame"
      ],
      "metadata": {
        "id": "bs4ZxAIm01tr"
      },
      "execution_count": null,
      "outputs": []
    },
    {
      "cell_type": "code",
      "execution_count": null,
      "metadata": {
        "id": "Cwen8X0CZ12u",
        "cellView": "form"
      },
      "outputs": [],
      "source": [
        "# @title Which fast-food chain had the highest systemwide sales?\n",
        "# Find the fast-food chain with the highest systemwide sales in 2021\n",
        "highest_sales_chain = fastfood_df.loc[fastfood_df['U.S. Systemwide Sales (Millions - U.S Dollars)'].idxmax()]\n",
        "\n",
        "# Display the fast-food chain with the highest systemwide sales in 2021\n",
        "print(\"Fast-Food Chain with the Highest Systemwide Sales in 2021:\")\n",
        "print(highest_sales_chain[['Fast-Food Chains', 'U.S. Systemwide Sales (Millions - U.S Dollars)']])\n",
        "\n"
      ]
    },
    {
      "cell_type": "markdown",
      "source": [
        "The code utilizes the idxmax() function to find the index of the maximum value in the 'U.S. Systemwide Sales (Millions - U.S Dollars)' column within the DataFrame. It then employs the loc[] function to identify the row corresponding to this maximum value. This row information, which represents the fast-food chain with the highest systemwide sales in 2021, is stored in the variable highest_sales_chain. Finally, the print() function is used to display the name of this fast-food chain along with its associated sales value for the year 2021.\n",
        "\n",
        "**McDonald's leads in total systemwide sales, amassing a significant sum of 45,960 million U.S. dollars in U.S. Systemwide Sales (Millions - U.S Dollars).**"
      ],
      "metadata": {
        "id": "fZjNhCSiwX7Y"
      }
    },
    {
      "cell_type": "code",
      "source": [
        "# @title List 10 fast-food chains with the least sales.\n",
        "# Sort by U.S. Systemwide Sales to identify chains with least sales\n",
        "bottom_sales_chains = fastfood_table.sort('U.S. Systemwide Sales (Millions - U.S Dollars)').take[:10]\n",
        "\n",
        "print(\"Chains with the least U.S. Systemwide Sales:\")\n",
        "print(bottom_sales_chains.select(['Fast-Food Chains', 'U.S. Systemwide Sales (Millions - U.S Dollars)']))\n"
      ],
      "metadata": {
        "id": "s7GHpynR9lnr",
        "cellView": "form"
      },
      "execution_count": null,
      "outputs": []
    },
    {
      "cell_type": "markdown",
      "source": [
        "This code snippet efficiently identifies and prints the ten fast-food chains with the lowest U.S. Systemwide Sales. It first sorts the dataset by the 'U.S. Systemwide Sales (Millions - U.S Dollars)' column in ascending order, revealing the chains with the lowest sales figures. Then, it selects the first ten entries from this sorted list to display the names of these chains along with their respective U.S. Systemwide Sales values."
      ],
      "metadata": {
        "id": "Ru9V_J7oydM5"
      }
    },
    {
      "cell_type": "code",
      "source": [
        "# @title Identify the top 10 performing chains in terms of U.S. Systemwide Sales?\n",
        "top_sales_chains = fastfood_table.sort('U.S. Systemwide Sales (Millions - U.S Dollars)', descending=True).take[:10]\n",
        "\n",
        "print(\"Top-performing chains based on U.S. Systemwide Sales:\")\n",
        "print(top_sales_chains.select(['Fast-Food Chains', 'U.S. Systemwide Sales (Millions - U.S Dollars)']))\n",
        "\n"
      ],
      "metadata": {
        "id": "WMUFwfOYqCgK",
        "cellView": "form"
      },
      "execution_count": null,
      "outputs": []
    },
    {
      "cell_type": "markdown",
      "source": [
        "This code snippet sorts the dataset in descending order using the 'U.S. Systemwide Sales (Millions - U.S Dollars)' column. By doing so, it arranges the data from highest to lowest sales figures. Then, it selects the first ten entries from this sorted list, containing the names of the top-performing chains along with their respective U.S. Systemwide Sales values."
      ],
      "metadata": {
        "id": "r5OqPtC0yuGM"
      }
    },
    {
      "cell_type": "code",
      "source": [
        "# @title Identify the 10 top-performing chains in terms of Average Sales per Unit?\n",
        "\n",
        "# Sort by Average Sales per Unit to identify top-performing chains\n",
        "top_avg_sales_chains = fastfood_table.sort('Average Sales per Unit (Thousands - U.S Dollars)', descending=True).take[:10]\n",
        "\n",
        "print(\"\\nTop-performing chains based on Average Sales per Unit:\")\n",
        "print(top_avg_sales_chains.select(['Fast-Food Chains', 'Average Sales per Unit (Thousands - U.S Dollars)']))"
      ],
      "metadata": {
        "id": "_5HfUYO_vMKN",
        "cellView": "form"
      },
      "execution_count": null,
      "outputs": []
    },
    {
      "cell_type": "markdown",
      "source": [
        "This code snippet is intended to identify and display the top 10 performing fast-food chains based on their Average Sales per Unit. The process involves sorting the dataset in descending order using the 'Average Sales per Unit (Thousands - U.S Dollars)' column. This sorting operation arranges the data from highest to lowest values of average sales per unit. Then, it selects the first ten entries from this sorted list, which contains the names of the top-performing chains along with their corresponding Average Sales per Unit values."
      ],
      "metadata": {
        "id": "SDjESR0EzAAK"
      }
    },
    {
      "cell_type": "code",
      "source": [
        "# @title Is there a correlation between the U.S. Systemwide Sales values and the Average Sales per Unit?\n",
        "import pandas as pd\n",
        "\n",
        "# Convert the Table to a Pandas DataFrame\n",
        "fastfood_df = fastfood_table.to_df()\n",
        "\n",
        "# Calculate correlation between U.S. Systemwide Sales and Average Sales per Unit\n",
        "sales_correlation = fastfood_df['U.S. Systemwide Sales (Millions - U.S Dollars)'].corr(\n",
        "    fastfood_df['Average Sales per Unit (Thousands - U.S Dollars)']\n",
        ")\n",
        "\n",
        "print(\"Correlation between U.S. Systemwide Sales and Average Sales per Unit:\", sales_correlation)\n"
      ],
      "metadata": {
        "id": "SXNp3waSq9bf",
        "cellView": "form"
      },
      "execution_count": null,
      "outputs": []
    },
    {
      "cell_type": "markdown",
      "source": [
        "This snippet converts the data from the datascience Table format to a Pandas DataFrame using the to_df() method. It employs the corr() function to compute the correlation between the 'U.S. Systemwide Sales (Millions - U.S Dollars)' column and the 'Average Sales per Unit (Thousands - U.S Dollars)' column in the Pandas DataFrame.\n",
        "The resulting value, stored in the variable sales_correlation, represents the correlation coefficient between these two variables. Finally, the code prints out the computed correlation coefficient using the print() function.\n",
        "\n",
        " **A correlation coefficient of 0.231 indicates a relatively weak positive linear relationship between U.S. Systemwide Sales and Average Sales per Unit in the fast-food chains dataset. This positive correlation suggests that there is some tendency for higher U.S. Systemwide Sales to be associated with higher Average Sales per Unit, but the relationship is not very strong.**"
      ],
      "metadata": {
        "id": "3ESJQKMm8yXL"
      }
    },
    {
      "cell_type": "code",
      "source": [
        "# @title Which fast-food chain achieved the highest average sales per unit while maintaining a low number of franchised stores?\n",
        "# Filter for chains with a low number of franchised stores (e.g., less than 50)\n",
        "low_franchise_threshold = 50\n",
        "low_franchise_chains = fastfood_df[fastfood_df['Franchised Stores'] < low_franchise_threshold].copy()\n",
        "\n",
        "# Calculate average sales per unit for these chains\n",
        "low_franchise_chains['Sales per Unit'] = low_franchise_chains['U.S. Systemwide Sales (Millions - U.S Dollars)'] / low_franchise_chains['2021 Total Units']\n",
        "\n",
        "# Find the chain with the highest average sales per unit among these low franchised stores chains\n",
        "highest_avg_sales_chain = low_franchise_chains.loc[low_franchise_chains['Sales per Unit'].idxmax()]\n",
        "\n",
        "# Display the chain with the highest average sales per unit and low franchised stores\n",
        "print(\"Chain with the highest average sales per unit and low franchised stores:\")\n",
        "print(highest_avg_sales_chain[['Fast-Food Chains', 'Average Sales per Unit (Thousands - U.S Dollars)', 'Franchised Stores']])\n"
      ],
      "metadata": {
        "id": "3YwP2Yx58rpI",
        "cellView": "form"
      },
      "execution_count": null,
      "outputs": []
    },
    {
      "cell_type": "markdown",
      "source": [
        "This snippet of code filters fast-food chains with a low number of franchised stores (less than 50) from the given dataset. Then, it calculates the average sales per unit for these filtered chains by dividing their total systemwide sales by the total number of units in 2021. Next, it identifies the chain among these filtered ones that has the highest average sales per unit. Finally, it displays information about this specific chain, including its name, average sales per unit, and the number of franchised stores it operates. The .copy() method ensures a separate copy is created to avoid certain warnings when working with dataframes.\n",
        "\n",
        "\n",
        "**Raising Cane’s achieves an average sales per unit of $4893 thousand. Raising Cane’s has the highest average sales per unit among chains with a low number of franchised stores. The chain operates only 23 franchised stores while maintaining high average sales per unit, indicating a relatively high profitability per store.**"
      ],
      "metadata": {
        "id": "ZB4BXvEW0uq9"
      }
    },
    {
      "cell_type": "code",
      "source": [
        "# @title What is the total number of fast-food franchises open in the U.S?\n",
        "# Calculate the total number of fast-food franchises in the U.S.\n",
        "total_franchises = fastfood_table['Franchised Stores'].sum()\n",
        "print(\"Total number of fast-food franchises open in the U.S.: \", total_franchises)\n"
      ],
      "metadata": {
        "colab": {
          "base_uri": "https://localhost:8080/"
        },
        "id": "ONAolx8K9bRN",
        "outputId": "d9fcbd9b-aad4-424e-f668-5e10a65e123c"
      },
      "execution_count": 19,
      "outputs": [
        {
          "output_type": "stream",
          "name": "stdout",
          "text": [
            "Total number of fast-food franchises open in the U.S.:  133198\n"
          ]
        }
      ]
    },
    {
      "cell_type": "markdown",
      "source": [
        "This snippet of code fetches the column 'Franchised Stores' from the 'fastfood_table' DataFrame, which represents the number of franchised stores for each fast-food chain. The sum() function is applied to the 'Franchised Stores' column, which adds up all the values in that column. The result is stored in the variable total_franchises, representing the total count of franchised stores across all fast-food chains. The print() statement outputs the total number of fast-food franchises open in the U.S., which is stored in the variable total_franchises.\n",
        "\n",
        "**The output indicates that the current total number of fast-food franchises open in the United States is 133,198.**\n"
      ],
      "metadata": {
        "id": "gt8_FqTm1YCp"
      }
    },
    {
      "cell_type": "code",
      "source": [
        "# @title Which fast food chain experienced the most growth from 2020 to 2021?\n",
        "# Find the fast-food chain with the most growth from 2020 to 2021\n",
        "most_growth_chain = fastfood_df.loc[fastfood_df['Total Change in Units from 2020'].idxmax()]\n",
        "print(\"Fast-food chain with the most growth from 2020 to 2021:\")\n",
        "print(most_growth_chain[['Fast-Food Chains', 'Total Change in Units from 2020']])\n",
        "\n"
      ],
      "metadata": {
        "id": "TpB_moZm_XY2",
        "cellView": "form"
      },
      "execution_count": null,
      "outputs": []
    },
    {
      "cell_type": "markdown",
      "source": [
        "This code snippet identifies the fast-food chain that experienced the most growth from 2020 to 2021 in terms of the total change in units. most_growth_chain finds the row of data for the fast-food chain with the highest increase in the total number of units from 2020 to 2021.\n",
        "fastfood_df['Total Change in Units from 2020'].idxmax() finds the index (row number) of the maximum value in the 'Total Change in Units from 2020' column, representing the chain that experienced the most growth.\n",
        "most_growth_chain[['Fast-Food Chains', 'Total Change in Units from 2020']] displays the name of the fast-food chain and the total change in units it experienced between 2020 and 2021.\n",
        "\n",
        "**The output provided displays information indicating that the fast-food chain, Jersey Mike’s experienced the most growth in the number of units among all fast-food chains during this period with a total increase of 246 units from 2020 to 2021.**"
      ],
      "metadata": {
        "id": "hvrTu_GI2DlS"
      }
    },
    {
      "cell_type": "code",
      "source": [
        "# @title Identify the top 3 performing chains in terms of U.S. Systemwide Sales Growth Rate from 2020 to 2021?\n",
        "# Calculate growth rate\n",
        "fastfood_df['Growth Rate'] = (fastfood_df['U.S. Systemwide Sales (Millions - U.S Dollars)'] / (fastfood_df['Total Change in Units from 2020'] + 1)) - 1\n",
        "\n",
        "# Get the top 3 performing chains in terms of growth rate\n",
        "top_3_growth_chains = fastfood_df.nlargest(3, 'Growth Rate')[['Fast-Food Chains', 'Growth Rate']]\n",
        "\n",
        "print(\"Top 3 performing chains in terms of U.S. Systemwide Sales Growth Rate from 2020 to 2021:\")\n",
        "print(top_3_growth_chains)\n"
      ],
      "metadata": {
        "colab": {
          "base_uri": "https://localhost:8080/"
        },
        "id": "ygZs-lseCKe3",
        "outputId": "cdb9ef1a-80c0-4d67-e217-ad2936ab82b2"
      },
      "execution_count": 17,
      "outputs": [
        {
          "output_type": "stream",
          "name": "stdout",
          "text": [
            "Top 3 performing chains in terms of U.S. Systemwide Sales Growth Rate from 2020 to 2021:\n",
            "   Fast-Food Chains  Growth Rate\n",
            "49          Zaxby’s   557.250000\n",
            "14    El Pollo Loco   485.500000\n",
            "23              KFC   462.636364\n"
          ]
        }
      ]
    },
    {
      "cell_type": "markdown",
      "source": [
        "The code calculates the growth rate for each fast-food chain using the formula:\n",
        "Growth Rate = (U.S. Systemwide Sales / (Total Change in Units from 2020 + 1)) - 1\n",
        "It computes the growth rate by dividing the U.S. Systemwide Sales by the total change in units from 2020 and subtracts 1 to represent the percentage change.\n",
        "The nlargest() function is used to obtain the top 3 performing chains based on the 'Growth Rate' column, which represents the highest growth rates. The code selects the columns 'Fast-Food Chains' and 'Growth Rate' for the top 3 chains.\n",
        "\n",
        "**Zaxby’s: Experienced a Growth Rate of 557.25%**\n",
        "\n",
        "**El Pollo Loco: Achieved a Growth Rate of 485.5%**\n",
        "\n",
        "**KFC: Recorded a Growth Rate of 462.64%**"
      ],
      "metadata": {
        "id": "5_bHChRj3CO8"
      }
    },
    {
      "cell_type": "markdown",
      "source": [
        "## CONCLUSION\n",
        "####The analysis of the top 50 fast-food chains in the US is crucial for understanding market dynamics, identifying industry leaders, and assessing sales trends. It provides insights into profitability, franchise models, and growth potential, offering valuable information for strategic decision-making and market positioning within the competitive fast-food industry.##"
      ],
      "metadata": {
        "id": "QBgdXEPn4UoT"
      }
    }
  ]
}